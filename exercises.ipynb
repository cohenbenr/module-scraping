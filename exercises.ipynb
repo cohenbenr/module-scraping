{
 "cells": [
  {
   "cell_type": "code",
   "execution_count": 1,
   "metadata": {
    "autoscroll": false,
    "ein.hycell": false,
    "ein.tags": "worksheet-0",
    "slideshow": {
     "slide_type": "-"
    }
   },
   "outputs": [],
   "source": [
    "# Our jupyter/datascience-notebook Docker container comes with \n",
    "# BeautifulSoup4 and requests, both popular libraries!\n",
    "\n",
    "from bs4 import BeautifulSoup\n",
    "import requests\n",
    "import logging\n",
    "\n",
    "logging.basicConfig(filename='legos.log',level=logging.DEBUG,format='%(asctime)s %(message)s')\n",
    "logging.warning('this is the beginning of the log file')"
   ]
  },
  {
   "cell_type": "code",
   "execution_count": 2,
   "metadata": {
    "autoscroll": false,
    "ein.hycell": false,
    "ein.tags": "worksheet-0",
    "slideshow": {
     "slide_type": "-"
    }
   },
   "outputs": [],
   "source": [
    "START_URL = 'https://brickset.com/sets/year-2016'\n",
    "res = requests.get(START_URL)\n",
    "soup = BeautifulSoup(res.content, 'html.parser')"
   ]
  },
  {
   "cell_type": "code",
   "execution_count": 3,
   "metadata": {
    "autoscroll": false,
    "ein.hycell": false,
    "ein.tags": "worksheet-0",
    "slideshow": {
     "slide_type": "-"
    }
   },
   "outputs": [],
   "source": [
    "# Exercise #1: Get the titles for each \"brickset\" on the first page\n",
    "\n",
    "def get_titles(soup):    \n",
    "    \"\"\" Returns a list of titles on the page \"\"\"\n",
    "    # the \"soup\" parameter is of the type that is\n",
    "    # returned by Beautiful Soup when it parses HTML.\n",
    "    # The function should then use the object to\n",
    "    # extract a list of titles (of the lego sets)\n",
    "    #\n",
    "    # Lookup the documentation for Beautiful Soup\n",
    "    # Figure out how to select the text of the title\n",
    "    # of each legoset. A title should look like: \n",
    "    # \"10252: Volkswagen Beetle\"\n",
    "    \n",
    "    return [x.get_text() for x in soup.select('div.meta h1 a')]"
   ]
  },
  {
   "cell_type": "code",
   "execution_count": 4,
   "metadata": {},
   "outputs": [],
   "source": [
    "def parse_bricks(url):\n",
    "    \"\"\" Fetches Lego Bricks page and extracts titles \"\"\"\n",
    "    # Lookup the documentation to the \"requests\" library\n",
    "    #\n",
    "    # Use requests to make a get request to the\n",
    "    # url given in the argument \"url\" (which is a string)\n",
    "    # and get the raw HTML body of the response\n",
    "    #\n",
    "    # Use \"BeautifulSoup\" to parse this HTML. \n",
    "    #\n",
    "    # Use the \"get_titles\" function to extract the\n",
    "    # titles from the BeautifulSoup object.\n",
    "    #\n",
    "    # Return the titles\n",
    "    import requests\n",
    "    from bs4 import BeautifulSoup\n",
    "\n",
    "    res = requests.get(url)\n",
    "    soup = BeautifulSoup(res.content, 'html.parser')\n",
    "    titles = get_titles(soup)\n",
    "    return titles"
   ]
  },
  {
   "cell_type": "code",
   "execution_count": 74,
   "metadata": {},
   "outputs": [],
   "source": [
    "# Exercise #2\n",
    "\n",
    "# Now write code that gets you all the links from ALL the pages.\n",
    "\n",
    "# HINT: you will probably want to extract the URL in the \"next\" button on \n",
    "# the bottom of the search pagination, which looks like \">\".\n",
    "\n",
    "# HINT HINT: Think of the previous exercise on API's and internet data.\n",
    "# The Pokemon API returned JSON, that we converted to a dictionary, that\n",
    "# had a nice structure. In particular, there were two top-level keys of interest, \n",
    "# one had the \"results\" in a list, the other was the \"next\" url to call to get\n",
    "# more items. If you can replicate this return structure, you will be able to \n",
    "# almost reuse the while loop you had there!\n",
    "\n",
    "# HINT HINT HINT: There's no reason you shouldn't be able to reuse the previous \n",
    "# functions (get_titles and parse_bricks)"
   ]
  },
  {
   "cell_type": "code",
   "execution_count": 6,
   "metadata": {},
   "outputs": [],
   "source": [
    "def collect_legos_for_year(year):\n",
    "\n",
    "    current_url = 'https://brickset.com/sets/year-%s' % str(year)\n",
    "    all_titles = []\n",
    "    pg = 1\n",
    "\n",
    "    while current_url is not None:\n",
    "        res = requests.get(current_url)\n",
    "        soup = BeautifulSoup(res.content, 'html.parser')\n",
    "\n",
    "        next_links = soup.select('li.next a')\n",
    "\n",
    "        all_titles = all_titles + parse_bricks(current_url)\n",
    "            \n",
    "        #print('collected titles for pg %s' % str(pg))\n",
    "        logging.warning('collected titles for pg %s' % str(pg))\n",
    "            \n",
    "        if (len(next_links)==2):\n",
    "            current_url = next_links[0].get('href')\n",
    "        elif (len(next_links)==0):            \n",
    "            current_url = None\n",
    "        else:\n",
    "            #print(\"Wrong number of next links\")\n",
    "            logging.warning('Wrong number of next links')\n",
    "            current_url = None\n",
    "        \n",
    "        pg = pg + 1 #this is not I suppose guaranteed\n",
    "            \n",
    "        if pg >= 10000:\n",
    "            #exit loop\n",
    "            print(\"Hit 10000 iterations, exiting.\")\n",
    "            logging.warning('Hit 10000 iterations, exiting.')\n",
    "            current_url = None\n",
    "    \n",
    "    print('Got %s titles for year %s' % (str(len(all_titles)),str(year)))\n",
    "    logging.warning('Got %s titles for year %s' % (str(len(all_titles)),str(year)))\n",
    "    return all_titles"
   ]
  },
  {
   "cell_type": "code",
   "execution_count": 11,
   "metadata": {
    "scrolled": true
   },
   "outputs": [
    {
     "name": "stdout",
     "output_type": "stream",
     "text": [
      "Got 0 titles for year 1900\n"
     ]
    },
    {
     "data": {
      "text/plain": [
       "[]"
      ]
     },
     "execution_count": 11,
     "metadata": {},
     "output_type": "execute_result"
    }
   ],
   "source": [
    "#lego2016 = collect_legos_for_year(2016)\n",
    "collect_legos_for_year(1900)"
   ]
  },
  {
   "cell_type": "code",
   "execution_count": 8,
   "metadata": {},
   "outputs": [
    {
     "name": "stdout",
     "output_type": "stream",
     "text": [
      "Got 0 titles for year 1900\n",
      "Got 0 titles for year 1901\n",
      "Got 0 titles for year 1902\n",
      "Got 0 titles for year 1903\n",
      "Got 0 titles for year 1904\n",
      "Got 0 titles for year 1905\n",
      "Got 0 titles for year 1906\n",
      "Got 0 titles for year 1907\n",
      "Got 0 titles for year 1908\n",
      "Got 0 titles for year 1909\n",
      "Got 0 titles for year 1910\n",
      "Got 0 titles for year 1911\n",
      "Got 0 titles for year 1912\n",
      "Got 0 titles for year 1913\n",
      "Got 0 titles for year 1914\n",
      "Got 0 titles for year 1915\n",
      "Got 0 titles for year 1916\n",
      "Got 0 titles for year 1917\n",
      "Got 0 titles for year 1918\n",
      "Got 0 titles for year 1919\n",
      "Got 0 titles for year 1920\n",
      "Got 0 titles for year 1921\n",
      "Got 0 titles for year 1922\n",
      "Got 0 titles for year 1923\n",
      "Got 0 titles for year 1924\n",
      "Got 0 titles for year 1925\n",
      "Got 0 titles for year 1926\n",
      "Got 0 titles for year 1927\n",
      "Got 0 titles for year 1928\n",
      "Got 0 titles for year 1929\n",
      "Got 0 titles for year 1930\n",
      "Got 0 titles for year 1931\n",
      "Got 0 titles for year 1932\n",
      "Got 0 titles for year 1933\n",
      "Got 0 titles for year 1934\n",
      "Got 0 titles for year 1935\n",
      "Got 0 titles for year 1936\n",
      "Got 0 titles for year 1937\n",
      "Got 0 titles for year 1938\n",
      "Got 0 titles for year 1939\n",
      "Got 0 titles for year 1940\n",
      "Got 0 titles for year 1941\n",
      "Got 0 titles for year 1942\n",
      "Got 0 titles for year 1943\n",
      "Got 0 titles for year 1944\n",
      "Got 0 titles for year 1945\n",
      "Got 0 titles for year 1946\n",
      "Got 0 titles for year 1947\n",
      "Got 0 titles for year 1948\n",
      "Got 1 titles for year 1949\n",
      "Got 7 titles for year 1950\n",
      "Got 0 titles for year 1951\n",
      "Got 0 titles for year 1952\n",
      "Got 4 titles for year 1953\n",
      "Got 20 titles for year 1954\n",
      "Got 37 titles for year 1955\n",
      "Got 24 titles for year 1956\n",
      "Got 25 titles for year 1957\n",
      "Got 51 titles for year 1958\n",
      "Got 8 titles for year 1959\n",
      "Got 2 titles for year 1960\n",
      "Got 72 titles for year 1961\n",
      "Got 18 titles for year 1962\n",
      "Got 25 titles for year 1963\n",
      "Got 41 titles for year 1964\n",
      "Got 31 titles for year 1965\n",
      "Got 175 titles for year 1966\n",
      "Got 34 titles for year 1967\n",
      "Got 49 titles for year 1968\n",
      "Got 92 titles for year 1969\n",
      "Got 39 titles for year 1970\n",
      "Got 78 titles for year 1971\n",
      "Got 45 titles for year 1972\n",
      "Got 76 titles for year 1973\n",
      "Got 40 titles for year 1974\n",
      "Got 43 titles for year 1975\n",
      "Got 77 titles for year 1976\n",
      "Got 70 titles for year 1977\n",
      "Got 85 titles for year 1978\n",
      "Got 91 titles for year 1979\n",
      "Got 119 titles for year 1980\n",
      "Got 73 titles for year 1981\n",
      "Got 68 titles for year 1982\n",
      "Got 76 titles for year 1983\n",
      "Got 83 titles for year 1984\n",
      "Got 140 titles for year 1985\n",
      "Got 148 titles for year 1986\n",
      "Got 195 titles for year 1987\n",
      "Got 76 titles for year 1988\n",
      "Got 141 titles for year 1989\n",
      "Got 126 titles for year 1990\n",
      "Got 143 titles for year 1991\n",
      "Got 105 titles for year 1992\n",
      "Got 152 titles for year 1993\n",
      "Got 147 titles for year 1994\n",
      "Got 163 titles for year 1995\n",
      "Got 204 titles for year 1996\n",
      "Got 257 titles for year 1997\n",
      "Got 375 titles for year 1998\n",
      "Got 340 titles for year 1999\n",
      "Got 379 titles for year 2000\n",
      "Got 402 titles for year 2001\n",
      "Got 445 titles for year 2002\n",
      "Got 426 titles for year 2003\n",
      "Got 413 titles for year 2004\n",
      "Got 397 titles for year 2005\n",
      "Got 463 titles for year 2006\n",
      "Got 447 titles for year 2007\n",
      "Got 436 titles for year 2008\n",
      "Got 479 titles for year 2009\n",
      "Got 524 titles for year 2010\n",
      "Got 585 titles for year 2011\n",
      "Got 700 titles for year 2012\n",
      "Got 701 titles for year 2013\n",
      "Got 743 titles for year 2014\n",
      "Got 778 titles for year 2015\n",
      "Got 826 titles for year 2016\n",
      "Got 839 titles for year 2017\n",
      "Got 788 titles for year 2018\n",
      "Got 756 titles for year 2019\n",
      "Got 133 titles for year 2020\n",
      "Got 0 titles for year 2021\n",
      "Got 0 titles for year 2022\n",
      "Got 0 titles for year 2023\n",
      "Got 0 titles for year 2024\n",
      "Got 0 titles for year 2025\n",
      "Got 0 titles for year 2026\n",
      "Got 0 titles for year 2027\n",
      "Got 0 titles for year 2028\n",
      "Got 0 titles for year 2029\n",
      "Got 0 titles for year 2030\n",
      "Got 0 titles for year 2031\n",
      "Got 0 titles for year 2032\n",
      "Got 0 titles for year 2033\n",
      "Got 0 titles for year 2034\n",
      "Got 0 titles for year 2035\n",
      "Got 0 titles for year 2036\n",
      "Got 0 titles for year 2037\n",
      "Got 0 titles for year 2038\n",
      "Got 0 titles for year 2039\n",
      "Got 0 titles for year 2040\n",
      "Got 0 titles for year 2041\n",
      "Got 0 titles for year 2042\n",
      "Got 0 titles for year 2043\n",
      "Got 0 titles for year 2044\n",
      "Got 0 titles for year 2045\n",
      "Got 0 titles for year 2046\n",
      "Got 0 titles for year 2047\n",
      "Got 0 titles for year 2048\n",
      "Got 0 titles for year 2049\n"
     ]
    }
   ],
   "source": [
    "## I would have liked to dynamically gather the list of years, but I'm not sure this is possible\n",
    "## without selenium (which I've worked with before, but is not the point here)\n",
    "\n",
    "all_titles = []\n",
    "for y in range(1900,2050):\n",
    "    all_titles = all_titles + collect_legos_for_year(y)\n"
   ]
  },
  {
   "cell_type": "code",
   "execution_count": 10,
   "metadata": {},
   "outputs": [],
   "source": [
    "import pandas as pd\n",
    "pd.DataFrame(all_titles).to_csv('all_titles.csv')"
   ]
  }
 ],
 "metadata": {
  "kernelspec": {
   "display_name": "Python 3",
   "language": "python",
   "name": "python3"
  },
  "language_info": {
   "codemirror_mode": {
    "name": "ipython",
    "version": 3
   },
   "file_extension": ".py",
   "mimetype": "text/x-python",
   "name": "python",
   "nbconvert_exporter": "python",
   "pygments_lexer": "ipython3",
   "version": "3.7.3"
  },
  "name": "exercises.ipynb"
 },
 "nbformat": 4,
 "nbformat_minor": 2
}
